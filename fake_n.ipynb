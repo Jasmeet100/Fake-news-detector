{
  "nbformat": 4,
  "nbformat_minor": 0,
  "metadata": {
    "colab": {
      "provenance": [],
      "gpuType": "T4",
      "collapsed_sections": [
        "m3US4SrEl3JK",
        "pV3WPIPkkw1Y",
        "I4yTRuFPk2Y3",
        "b10N0qRjlnVu",
        "yv9C686TzlK3"
      ],
      "authorship_tag": "ABX9TyNHVdzoPQARIA9SsK/0kaN2",
      "include_colab_link": true
    },
    "kernelspec": {
      "name": "python3",
      "display_name": "Python 3"
    },
    "language_info": {
      "name": "python"
    },
    "accelerator": "GPU"
  },
  "cells": [
    {
      "cell_type": "markdown",
      "metadata": {
        "id": "view-in-github",
        "colab_type": "text"
      },
      "source": [
        "<a href=\"https://colab.research.google.com/github/Jasmeet100/Fake-news-detector/blob/main/fake_n.ipynb\" target=\"_parent\"><img src=\"https://colab.research.google.com/assets/colab-badge.svg\" alt=\"Open In Colab\"/></a>"
      ]
    },
    {
      "cell_type": "markdown",
      "source": [
        "## Importing Libraries"
      ],
      "metadata": {
        "id": "m3US4SrEl3JK"
      }
    },
    {
      "cell_type": "code",
      "execution_count": null,
      "metadata": {
        "id": "-7pxqxF9ZTO8"
      },
      "outputs": [],
      "source": [
        "import pandas as pd\n",
        "import numpy as np\n",
        "import matplotlib.pyplot as plt\n",
        "import seaborn as sns\n",
        "import nltk\n",
        "import re\n",
        "from wordcloud import WordCloud"
      ]
    },
    {
      "cell_type": "code",
      "source": [
        "from tensorflow.keras.preprocessing.text import Tokenizer\n",
        "from tensorflow.keras.preprocessing.sequence import pad_sequences\n",
        "from tensorflow.keras.models import Sequential\n",
        "from tensorflow.keras.layers import Dense, Embedding, LSTM, Conv1D, MaxPool1D\n",
        "from sklearn.model_selection import train_test_split\n",
        "from sklearn.metrics import classification_report, accuracy_score"
      ],
      "metadata": {
        "id": "Y7pmyc-yeNfy"
      },
      "execution_count": null,
      "outputs": []
    },
    {
      "cell_type": "markdown",
      "source": [
        "# Fake news"
      ],
      "metadata": {
        "id": "pV3WPIPkkw1Y"
      }
    },
    {
      "cell_type": "code",
      "source": [
        "fake = pd.read_csv(\"https://raw.githubusercontent.com/laxmimerit/fake-real-news-dataset/refs/heads/main/data/Fake.csv\")"
      ],
      "metadata": {
        "collapsed": true,
        "id": "Q40sAHgeiKj0"
      },
      "execution_count": null,
      "outputs": []
    },
    {
      "cell_type": "code",
      "source": [
        "text = \" \".join(fake[\"text\"].tolist())"
      ],
      "metadata": {
        "id": "ttE6E3tRiYyo"
      },
      "execution_count": null,
      "outputs": []
    },
    {
      "cell_type": "code",
      "source": [
        "wordcloud = WordCloud(width=1920, height=1080).generate(text)\n",
        "fig = plt.figure(figsize=(10, 10))\n",
        "plt.imshow(wordcloud)\n",
        "plt.axis('off')\n",
        "plt.tight_layout(pad=0)"
      ],
      "metadata": {
        "collapsed": true,
        "id": "XLfDJ4cVjldT"
      },
      "execution_count": null,
      "outputs": []
    },
    {
      "cell_type": "markdown",
      "source": [
        "# Real news"
      ],
      "metadata": {
        "id": "I4yTRuFPk2Y3"
      }
    },
    {
      "cell_type": "code",
      "source": [
        "real = pd.read_csv('https://raw.githubusercontent.com/laxmimerit/fake-real-news-dataset/refs/heads/main/data/True.csv')"
      ],
      "metadata": {
        "id": "UCnNJfIhkmgT"
      },
      "execution_count": null,
      "outputs": []
    },
    {
      "cell_type": "code",
      "source": [
        "text = \" \".join(real[\"text\"].tolist())"
      ],
      "metadata": {
        "id": "1inVkHKokqJM"
      },
      "execution_count": null,
      "outputs": []
    },
    {
      "cell_type": "code",
      "source": [
        "wordcloud = WordCloud(width=1920, height=1080).generate(text)\n",
        "fig = plt.figure(figsize=(10, 10))\n",
        "plt.imshow(wordcloud)\n",
        "plt.axis('off')\n",
        "plt.tight_layout(pad=0)"
      ],
      "metadata": {
        "collapsed": true,
        "id": "l_8uPmqTk_73"
      },
      "execution_count": null,
      "outputs": []
    },
    {
      "cell_type": "markdown",
      "source": [
        "# Cleaning Data"
      ],
      "metadata": {
        "id": "b10N0qRjlnVu"
      }
    },
    {
      "cell_type": "code",
      "source": [
        "#real.sample(4)"
      ],
      "metadata": {
        "collapsed": true,
        "id": "dE-nKye5lZOd"
      },
      "execution_count": null,
      "outputs": []
    },
    {
      "cell_type": "code",
      "source": [
        "unknown_publisher = []\n",
        "for index, row in enumerate(real.text.values):\n",
        "  try:\n",
        "    record = row.split('-', maxsplit=1)\n",
        "    record[1]\n",
        "\n",
        "    assert(len(record[0])<120)\n",
        "\n",
        "  except:\n",
        "    unknown_publisher.append(index)\n"
      ],
      "metadata": {
        "id": "KjT-kxwym6-G"
      },
      "execution_count": null,
      "outputs": []
    },
    {
      "cell_type": "code",
      "source": [
        "len(unknown_publisher)"
      ],
      "metadata": {
        "collapsed": true,
        "id": "12vLyIlhpZR7"
      },
      "execution_count": null,
      "outputs": []
    },
    {
      "cell_type": "code",
      "source": [
        "real.iloc[unknown_publisher].text"
      ],
      "metadata": {
        "collapsed": true,
        "id": "Z98za8uyp9ag"
      },
      "execution_count": null,
      "outputs": []
    },
    {
      "cell_type": "code",
      "source": [
        "real.drop(8970, axis=0)"
      ],
      "metadata": {
        "collapsed": true,
        "id": "GxO3IF4vrni5"
      },
      "execution_count": null,
      "outputs": []
    },
    {
      "cell_type": "code",
      "source": [
        "publisher = []\n",
        "tmp_txt = []\n",
        "\n",
        "for index, row in enumerate(real.text.values):\n",
        "  if index in unknown_publisher:\n",
        "    tmp_txt.append(row)\n",
        "    publisher.append('Unknown')\n",
        "\n",
        "  else:\n",
        "    record =  row.split('-', maxsplit = 1)\n",
        "    publisher.append(record[0].strip())\n",
        "    tmp_txt.append(record[1].strip())"
      ],
      "metadata": {
        "id": "7ChdwNhduTwm"
      },
      "execution_count": null,
      "outputs": []
    },
    {
      "cell_type": "code",
      "source": [
        "real['publisher']=publisher\n",
        "real['text']=tmp_txt"
      ],
      "metadata": {
        "id": "VDIEwXBDvOVk"
      },
      "execution_count": null,
      "outputs": []
    },
    {
      "cell_type": "code",
      "source": [
        "real.head()"
      ],
      "metadata": {
        "collapsed": true,
        "id": "p9z5aTz7vhgZ"
      },
      "execution_count": null,
      "outputs": []
    },
    {
      "cell_type": "code",
      "source": [
        "empty_fake_index = [index for index,text in enumerate(fake.text.tolist()) if str(text).strip()=='']"
      ],
      "metadata": {
        "id": "6B322URhyGeG"
      },
      "execution_count": null,
      "outputs": []
    },
    {
      "cell_type": "code",
      "source": [
        "fake.iloc[empty_fake_index]"
      ],
      "metadata": {
        "collapsed": true,
        "id": "gFVvXB7iyaXe"
      },
      "execution_count": null,
      "outputs": []
    },
    {
      "cell_type": "code",
      "source": [
        "real['text'] = real['text'] + \"\" + real['title']\n",
        "fake['text'] = fake['text'] + \"\" + fake['title']"
      ],
      "metadata": {
        "id": "FHWonY0gyrMM"
      },
      "execution_count": null,
      "outputs": []
    },
    {
      "cell_type": "code",
      "source": [
        "real[\"text\"] = real['text'].apply(lambda x: str(x).lower())\n",
        "fake[\"text\"] = fake['text'].apply(lambda x: str(x).lower())"
      ],
      "metadata": {
        "id": "kyZDne4FzCzs"
      },
      "execution_count": null,
      "outputs": []
    },
    {
      "cell_type": "markdown",
      "source": [
        "# Preprocessing"
      ],
      "metadata": {
        "id": "yv9C686TzlK3"
      }
    },
    {
      "cell_type": "code",
      "source": [
        "real['class']=1\n",
        "fake['class']=0"
      ],
      "metadata": {
        "id": "X_riHxG3zsSw"
      },
      "execution_count": null,
      "outputs": []
    },
    {
      "cell_type": "code",
      "source": [
        "real = real[['text','class']]\n",
        "fake = fake[['text','class']]"
      ],
      "metadata": {
        "id": "YAZhwP7o0Eia"
      },
      "execution_count": null,
      "outputs": []
    },
    {
      "cell_type": "code",
      "source": [
        "data = pd.concat([real, fake], ignore_index=True)"
      ],
      "metadata": {
        "id": "Aqc0YN9z211Z"
      },
      "execution_count": null,
      "outputs": []
    },
    {
      "cell_type": "markdown",
      "source": [
        "# Vectorsiation"
      ],
      "metadata": {
        "id": "6CtpyeLg6LKB"
      }
    },
    {
      "cell_type": "code",
      "source": [
        "!pip install numpy==1.26.4 # Install compatible numpy version\n",
        "!pip install gensim\n",
        "!pip install spacy==3.7.6\n",
        "!python -m spacy download en_core_web_sm"
      ],
      "metadata": {
        "collapsed": true,
        "id": "ree2ELfY8fW3"
      },
      "execution_count": null,
      "outputs": []
    },
    {
      "cell_type": "code",
      "source": [
        "import gensim #word to vector conversion"
      ],
      "metadata": {
        "id": "wxOiADis6OZK"
      },
      "execution_count": null,
      "outputs": []
    },
    {
      "cell_type": "code",
      "source": [
        "y = data['class'].values"
      ],
      "metadata": {
        "id": "6xu1NBHP6_2k"
      },
      "execution_count": null,
      "outputs": []
    },
    {
      "cell_type": "code",
      "source": [
        "X = [d.split() for d in data['text'].tolist()]  #list of lists"
      ],
      "metadata": {
        "id": "g0D146K-9VOn"
      },
      "execution_count": null,
      "outputs": []
    },
    {
      "cell_type": "code",
      "source": [
        "DIM = 100\n",
        "w2v_model = gensim.models.Word2Vec(sentences=X, vector_size=DIM, window=10, min_count=1)"
      ],
      "metadata": {
        "id": "6szYRBxo-QGW"
      },
      "execution_count": null,
      "outputs": []
    },
    {
      "cell_type": "code",
      "source": [
        "#w2v_model.wv.most_similar('trump')"
      ],
      "metadata": {
        "collapsed": true,
        "id": "yj64nAJ7M-PA"
      },
      "execution_count": null,
      "outputs": []
    },
    {
      "cell_type": "code",
      "source": [
        "tokenizer = Tokenizer()\n",
        "tokenizer.fit_on_texts(X)"
      ],
      "metadata": {
        "id": "UImlV4BqGzKx"
      },
      "execution_count": null,
      "outputs": []
    },
    {
      "cell_type": "code",
      "source": [
        "X = tokenizer.texts_to_sequences(X)"
      ],
      "metadata": {
        "id": "VevMISIXG-gJ"
      },
      "execution_count": null,
      "outputs": []
    },
    {
      "cell_type": "code",
      "source": [
        "maxlen = 1000\n",
        "X = pad_sequences(X, maxlen = maxlen)"
      ],
      "metadata": {
        "id": "XnN0bDyJKuP4"
      },
      "execution_count": null,
      "outputs": []
    },
    {
      "cell_type": "code",
      "source": [
        "#len(X[100])"
      ],
      "metadata": {
        "collapsed": true,
        "id": "H4nCKyN_K2MG"
      },
      "execution_count": null,
      "outputs": []
    },
    {
      "cell_type": "code",
      "source": [
        "vocab_size = len(tokenizer.word_index) + 1 #?\n",
        "vocab = tokenizer.word_index"
      ],
      "metadata": {
        "id": "q-Qs5a9DK64d"
      },
      "execution_count": null,
      "outputs": []
    },
    {
      "cell_type": "code",
      "source": [
        "def get_weight_matrix(model):\n",
        "  weight_matrix = np.zeros((vocab_size, DIM))\n",
        "\n",
        "  for word, i in vocab.items ():\n",
        "    weight_matrix[i] = model.wv[word]\n",
        "\n",
        "  return weight_matrix"
      ],
      "metadata": {
        "id": "x5VocahRLUZi"
      },
      "execution_count": null,
      "outputs": []
    },
    {
      "cell_type": "code",
      "source": [
        "embedding_vectors = get_weight_matrix(w2v_model) #??"
      ],
      "metadata": {
        "id": "mxIYiNHvNQEk"
      },
      "execution_count": null,
      "outputs": []
    },
    {
      "cell_type": "code",
      "source": [
        "model = Sequential()\n",
        "model.add(Embedding(vocab_size, output_dim=DIM, weights = [embedding_vectors], input_length = maxlen, trainable=False))\n",
        "model.add(LSTM(units=128))\n",
        "model.add(Dense(1, activation='sigmoid'))\n",
        "model.compile(optimizer='adam', loss='binary_crossentropy', metrics=['acc'])   #???????????????????????"
      ],
      "metadata": {
        "collapsed": true,
        "id": "T4-n0dZjOgo1"
      },
      "execution_count": null,
      "outputs": []
    },
    {
      "cell_type": "code",
      "source": [
        "model.summary()\n"
      ],
      "metadata": {
        "id": "6jjeBAWyQBDG",
        "collapsed": true
      },
      "execution_count": null,
      "outputs": []
    },
    {
      "cell_type": "code",
      "source": [
        "X_train, X_test, y_train, y_test = train_test_split(X,y)"
      ],
      "metadata": {
        "id": "MOxmy_TxQVkY"
      },
      "execution_count": null,
      "outputs": []
    },
    {
      "cell_type": "code",
      "source": [
        "model.fit(X_train, y_train, validation_data=(X_test, y_test), epochs=6, batch_size=64) #????"
      ],
      "metadata": {
        "collapsed": true,
        "colab": {
          "base_uri": "https://localhost:8080/"
        },
        "id": "a4pDJx1kQefy",
        "outputId": "db60091d-ca5a-49b8-ffbe-a6c23076a6d9"
      },
      "execution_count": null,
      "outputs": [
        {
          "output_type": "stream",
          "name": "stdout",
          "text": [
            "Epoch 1/6\n",
            "\u001b[1m527/527\u001b[0m \u001b[32m━━━━━━━━━━━━━━━━━━━━\u001b[0m\u001b[37m\u001b[0m \u001b[1m963s\u001b[0m 2s/step - acc: 0.9313 - loss: 0.1621 - val_acc: 0.9850 - val_loss: 0.0437\n",
            "Epoch 2/6\n",
            "\u001b[1m 34/527\u001b[0m \u001b[32m━\u001b[0m\u001b[37m━━━━━━━━━━━━━━━━━━━\u001b[0m \u001b[1m13:13\u001b[0m 2s/step - acc: 0.9829 - loss: 0.0421"
          ]
        }
      ]
    },
    {
      "cell_type": "code",
      "source": [
        "y_pred = (model.predict(X_test)>=0.5).astype(int)"
      ],
      "metadata": {
        "collapsed": true,
        "id": "KARrnYW7Ql4g"
      },
      "execution_count": null,
      "outputs": []
    },
    {
      "cell_type": "code",
      "source": [
        "accuracy_score(y_test,y_pred)   #y_pred?"
      ],
      "metadata": {
        "collapsed": true,
        "id": "i6kZ8x8hR16E"
      },
      "execution_count": null,
      "outputs": []
    },
    {
      "cell_type": "code",
      "source": [
        "print(classification_report(y_test, y_pred))"
      ],
      "metadata": {
        "id": "wLwiuwqPSEWL"
      },
      "execution_count": null,
      "outputs": []
    },
    {
      "cell_type": "code",
      "source": [
        "n = [\"this is a news\"]\n",
        "n = tokenizer.texts_to_sequences(n)\n",
        "n = pad_sequences(n, maxlen=maxlen)"
      ],
      "metadata": {
        "id": "L8SNfsqCSoid"
      },
      "execution_count": null,
      "outputs": []
    },
    {
      "cell_type": "code",
      "source": [
        "#model.predict(n)\n",
        "(model.predict(n)>=0.5).astype(int)"
      ],
      "metadata": {
        "id": "r1ONiJJqTQIA"
      },
      "execution_count": null,
      "outputs": []
    }
  ]
}